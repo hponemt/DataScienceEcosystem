{
 "cells": [
  {
   "cell_type": "markdown",
   "id": "4ca7dd95",
   "metadata": {},
   "source": [
    "# Data Science Tools and Ecosystem"
   ]
  },
  {
   "cell_type": "markdown",
   "id": "a69ab3a1",
   "metadata": {},
   "source": [
    "In this notebook Data Science Tools and Ecosystem are summarized."
   ]
  },
  {
   "cell_type": "markdown",
   "id": "cec9a197",
   "metadata": {},
   "source": [
    "Some of the popular languages the Data Scientists use are:\n",
    "    \n",
    "    1) Python\n",
    "    2) R\n",
    "    3) SQL"
   ]
  },
  {
   "cell_type": "markdown",
   "id": "860e65c5",
   "metadata": {},
   "source": [
    "Some of the commonly used libraries used by Data Scientists are:\n",
    "    \n",
    "    1) TensorFlow\n",
    "    2) NumPy\n",
    "    3) SciPy"
   ]
  },
  {
   "cell_type": "markdown",
   "id": "934314de",
   "metadata": {},
   "source": [
    "|<p style=\"text-align: center;\">Data Science Tools</p>|\n",
    "|------------------|\n",
    "|<p style=\"text-align: center;\">Jupyter Notebook</p>|\n",
    "|<p style=\"text-align: center;\">Google Colab</p>|\n",
    "|<p style=\"text-align: center;\">RStudio</p>|\n",
    "\n"
   ]
  },
  {
   "cell_type": "markdown",
   "id": "4222f513",
   "metadata": {},
   "source": [
    "### Below are a few examples of evaluating arithmetic expressions in Python ###"
   ]
  },
  {
   "cell_type": "code",
   "execution_count": 6,
   "id": "f0b9db45",
   "metadata": {},
   "outputs": [
    {
     "data": {
      "text/plain": [
       "17"
      ]
     },
     "execution_count": 6,
     "metadata": {},
     "output_type": "execute_result"
    }
   ],
   "source": [
    "##This is a simple arithmetic expression to multiply then add integers##\n",
    "\n",
    "(3*4)+5\n",
    "\n"
   ]
  },
  {
   "cell_type": "code",
   "execution_count": 9,
   "id": "5bdebdce",
   "metadata": {},
   "outputs": [
    {
     "data": {
      "text/plain": [
       "3.3333333333333335"
      ]
     },
     "execution_count": 9,
     "metadata": {},
     "output_type": "execute_result"
    }
   ],
   "source": [
    "##This will convert 200 minutes to hours by dividing by 60##\n",
    "\n",
    "200/60"
   ]
  },
  {
   "cell_type": "markdown",
   "id": "10f15f3e",
   "metadata": {},
   "source": [
    "**Objectives:**\n",
    "\n",
    "* Python\n",
    "* R\n",
    "* SQL\n",
    "* Scala\n",
    "* Julia\n",
    "\n"
   ]
  },
  {
   "cell_type": "markdown",
   "id": "618803b1",
   "metadata": {},
   "source": [
    "## Author ##\n",
    "\n",
    "Hpone Myint Thu"
   ]
  }
 ],
 "metadata": {
  "kernelspec": {
   "display_name": "Python 3 (ipykernel)",
   "language": "python",
   "name": "python3"
  },
  "language_info": {
   "codemirror_mode": {
    "name": "ipython",
    "version": 3
   },
   "file_extension": ".py",
   "mimetype": "text/x-python",
   "name": "python",
   "nbconvert_exporter": "python",
   "pygments_lexer": "ipython3",
   "version": "3.9.13"
  }
 },
 "nbformat": 4,
 "nbformat_minor": 5
}
